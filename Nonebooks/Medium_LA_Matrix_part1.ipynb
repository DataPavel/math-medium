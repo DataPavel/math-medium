{
 "cells": [
  {
   "cell_type": "markdown",
   "id": "ff14bc2d-381c-436b-95f3-c3d16739f589",
   "metadata": {},
   "source": [
    "### Linear Algebra. Matrix. Part 1"
   ]
  },
  {
   "cell_type": "markdown",
   "id": "7ceda5c5-eda5-4d62-9a13-740038ee02b6",
   "metadata": {},
   "source": [
    "$$\n",
    "A=[a_{ij}]\n",
    "=\n",
    "\\left[\n",
    "\\begin{array}{cccc}\n",
    "   a_{11} & a_{12} & \\cdots & a_{1n} \\\\\n",
    "   a_{21} & a_{22} & \\cdots & a_{2n} \\\\\n",
    "   \\vdots & \\vdots & \\quad & \\vdots \\\\\n",
    "   a_{m1} & a_{m2} & \\cdots & a_{mn}\n",
    "\\end{array}\n",
    "\\right]\\\\\n",
    "$$\n",
    "where:\n",
    "$a_{ij} \\in \\mathbb{R},\\\\\n",
    "n,m \\in \\mathbb{N},\\\\\n",
    "i=1,...,n, \\\\\n",
    "j=1,...,m\n",
    "$"
   ]
  },
  {
   "cell_type": "code",
   "execution_count": 1,
   "id": "303a6f25-dcac-4742-a953-3c136950e0f7",
   "metadata": {},
   "outputs": [
    {
     "name": "stdout",
     "output_type": "stream",
     "text": [
      "[[5 6 6]\n",
      " [1 5 3]\n",
      " [8 2 4]\n",
      " [9 2 0]]\n"
     ]
    }
   ],
   "source": [
    "import numpy as np\n",
    "a_4x3 = np.array([[5,6,6],[1,5,3],[8,2,4],[9,2,0]])\n",
    "print(a_4x3)"
   ]
  },
  {
   "cell_type": "markdown",
   "id": "7b471989-2e2d-4534-b871-3ef3857117f7",
   "metadata": {},
   "source": [
    "#### Identity matrix"
   ]
  },
  {
   "cell_type": "markdown",
   "id": "208379ba-2f08-4ca4-8f90-9887c638219b",
   "metadata": {},
   "source": [
    "$$\n",
    "I_n=[a_{ij}]=\n",
    "\\left[\n",
    "\\begin{array}{cccccc}\n",
    "   1 & 0 & \\cdots & 0 & \\cdots & 0\\\\\n",
    "   0 & 1 & \\cdots & 0 & \\cdots & 0 \\\\\n",
    "   \\vdots & \\vdots & \\ddots & \\vdots & \\ddots & \\vdots \\\\\n",
    "   0 & 0 & \\cdots & 1 & \\cdots & 0 \\\\\n",
    "   \\vdots & \\vdots & \\ddots & \\vdots & \\ddots & \\vdots \\\\\n",
    "   0 & 0 & \\cdots & 0 & \\cdots & 1\n",
    "\\end{array}\n",
    "\\right]\n",
    "$$\n",
    "where:  \n",
    "$\n",
    "\\in\\mathbb{R}^{nxn}\n",
    "$"
   ]
  },
  {
   "cell_type": "markdown",
   "id": "8b4d597a-adc4-4e1e-b6e8-ae7f528b8cda",
   "metadata": {},
   "source": [
    "$$\n",
    "I_n=[a_{ij}]\n",
    "$$  \n",
    "where:  \n",
    "$\n",
    "a_{ij}=\n",
    "\\begin{cases} \n",
    "1, \\quad if \\quad i=j,\\\\\n",
    "0, \\quad if \\quad i\\neq j\n",
    "\\end{cases}\n",
    "$"
   ]
  },
  {
   "cell_type": "code",
   "execution_count": 5,
   "id": "93218488-6824-46eb-9a4d-4e1610b37bc4",
   "metadata": {},
   "outputs": [],
   "source": [
    "def create_identity_matrix(n: int):\n",
    "    '''\n",
    "    This function creates a n-by-n identity matrix\n",
    "    \n",
    "    INPUT: n:integer - nubmer of rows of an identity matrix\n",
    "    number of rows will be equal to number of columns, since\n",
    "    identity matrices are squares.\n",
    "    \n",
    "    OUTPUT: matrix:ndarray - an identity matrix of n rows\n",
    "    and n columns.    \n",
    "    '''\n",
    "    matrix = list()\n",
    "    for i in range(n):\n",
    "        vect = list()\n",
    "        for j in range(n):\n",
    "            if i == j:\n",
    "                vect.append(1)\n",
    "            else:\n",
    "                vect.append(0)\n",
    "        matrix.append(vect)\n",
    "    matrix = np.array(matrix)\n",
    "    return matrix"
   ]
  },
  {
   "cell_type": "code",
   "execution_count": 6,
   "id": "991d01b4-6c1d-4829-a0dc-aab486009fc3",
   "metadata": {},
   "outputs": [
    {
     "name": "stdout",
     "output_type": "stream",
     "text": [
      "[[1 0 0 0 0]\n",
      " [0 1 0 0 0]\n",
      " [0 0 1 0 0]\n",
      " [0 0 0 1 0]\n",
      " [0 0 0 0 1]]\n"
     ]
    }
   ],
   "source": [
    "print(create_identity_matrix(5))"
   ]
  },
  {
   "cell_type": "markdown",
   "id": "4c04cebe-b339-4568-97e6-63428db83eb2",
   "metadata": {},
   "source": [
    "#### Matrix addition"
   ]
  },
  {
   "cell_type": "markdown",
   "id": "3e1807ec-118a-42a7-ac44-7a92e9e0f382",
   "metadata": {},
   "source": [
    "$$\n",
    "C=A+B\n",
    "$$ \n",
    "where:  \n",
    "$A, B, C \\in\\mathbb{R}^{mxn}\n",
    "$"
   ]
  },
  {
   "cell_type": "markdown",
   "id": "7448f762-178b-44ab-8466-a1b311956797",
   "metadata": {},
   "source": [
    "$$\n",
    "c_{ij} = a_{ij}+b_{ij}\n",
    "$$\n",
    "where:  \n",
    "$\n",
    "i = 1,...,m,\\\\\n",
    "j = 1,...,n\n",
    "$"
   ]
  },
  {
   "cell_type": "code",
   "execution_count": 7,
   "id": "1ad7cde3-10ba-47e5-bce5-b0d22a311ffc",
   "metadata": {},
   "outputs": [
    {
     "name": "stdout",
     "output_type": "stream",
     "text": [
      "Matrix A\n",
      "[[2 3 5]\n",
      " [5 2 6]\n",
      " [5 6 3]\n",
      " [5 2 1]]\n",
      "---------\n",
      "Matrix B\n",
      "[[6 4 1]\n",
      " [4 2 1]\n",
      " [0 8 4]\n",
      " [3 1 1]]\n"
     ]
    }
   ],
   "source": [
    "a = np.array([[2,3,5],[5,2,6],[5,6,3],[5,2,1]])\n",
    "b = np.array([[6,4,1],[4,2,1],[0,8,4],[3,1,1]])\n",
    "print('Matrix A')\n",
    "print(a)\n",
    "print('---------')\n",
    "print('Matrix B')\n",
    "print(b)"
   ]
  },
  {
   "cell_type": "code",
   "execution_count": 8,
   "id": "4f4bc62f-f862-499e-aad9-2be848f9cd87",
   "metadata": {},
   "outputs": [],
   "source": [
    "def add_matrices(a, b):\n",
    "    '''\n",
    "    This function checks if the two matrices have the same shape\n",
    "    and if they do, it preforms addition\n",
    "    \n",
    "    INPUT: \n",
    "        a:ndarray - matrix A\n",
    "        b:ndarray - matrix B\n",
    "    OUTPUT:\n",
    "        c:ndarray - result of multiplication of matrices A and B\n",
    "    '''\n",
    "    if a.shape == b.shape:\n",
    "        c = a+b\n",
    "        return c\n",
    "    else:\n",
    "        return print('Please check the shape of the matrices.\\\n",
    "        They should be equal')"
   ]
  },
  {
   "cell_type": "code",
   "execution_count": 11,
   "id": "85094de0-60c5-4707-83eb-4df7c5905138",
   "metadata": {},
   "outputs": [
    {
     "name": "stdout",
     "output_type": "stream",
     "text": [
      "[[ 8  7  6]\n",
      " [ 9  4  7]\n",
      " [ 5 14  7]\n",
      " [ 8  3  2]]\n"
     ]
    }
   ],
   "source": [
    "print(add_matrices(a, b))"
   ]
  },
  {
   "cell_type": "markdown",
   "id": "6c57aa08-e345-4a1f-bf84-cd892700e403",
   "metadata": {},
   "source": [
    "#### Multiplication with a Scalar"
   ]
  },
  {
   "cell_type": "markdown",
   "id": "b28df17e-b2d6-494d-9ca1-945e03519d7a",
   "metadata": {},
   "source": [
    "$$\n",
    "B = \\lambda A\n",
    "$$\n",
    "where:  \n",
    "$\n",
    "A, B \\in \\mathbb{R}^{mxn},\\\\\n",
    "\\lambda \\in \\mathbb{R}\n",
    "$\n",
    "<br/>\n",
    "$$\n",
    "b_{ij}=\\lambda a_{ij}\n",
    "$$\n",
    "where:  \n",
    "$\n",
    "i = 1,...,m,\\\\\n",
    "j = 1,...,n\n",
    "$"
   ]
  },
  {
   "cell_type": "code",
   "execution_count": 13,
   "id": "3a8fae07-ce0f-43f9-8bd5-230739930e3f",
   "metadata": {},
   "outputs": [
    {
     "name": "stdout",
     "output_type": "stream",
     "text": [
      "Matrix A\n",
      "[[2 3 5]\n",
      " [5 2 6]\n",
      " [5 6 3]\n",
      " [5 2 1]]\n",
      "---------\n",
      "Scalar\n",
      "2\n"
     ]
    }
   ],
   "source": [
    "a = np.array([[2,3,5],[5,2,6],[5,6,3],[5,2,1]])\n",
    "scalar = 2\n",
    "print('Matrix A')\n",
    "print(a)\n",
    "print('---------')\n",
    "print('Scalar')\n",
    "print(scalar)"
   ]
  },
  {
   "cell_type": "code",
   "execution_count": 14,
   "id": "916bf5a5-9f6c-45d8-8f8b-a8f6f26db3b6",
   "metadata": {},
   "outputs": [],
   "source": [
    "def mult_scalar(matrix, scalar:float):\n",
    "    '''\n",
    "    This function multiplies matrix with a scalar\n",
    "    \n",
    "    INPUT:\n",
    "        matrix:np.array - matrix to be multiplied\n",
    "        scalar:float - a scalar to be multiplied\n",
    "    OUTPUT:\n",
    "        b:np.array - resulting matrix   \n",
    "    '''\n",
    "    b = matrix * scalar\n",
    "    return b"
   ]
  },
  {
   "cell_type": "code",
   "execution_count": 16,
   "id": "29d871ae-69bf-44f2-87e5-bbda9b020575",
   "metadata": {},
   "outputs": [
    {
     "name": "stdout",
     "output_type": "stream",
     "text": [
      "[[ 4  6 10]\n",
      " [10  4 12]\n",
      " [10 12  6]\n",
      " [10  4  2]]\n"
     ]
    }
   ],
   "source": [
    "print(mult_scalar(a, scalar))"
   ]
  },
  {
   "cell_type": "markdown",
   "id": "ad7847aa-0c75-44bd-bb8c-9e332836d62c",
   "metadata": {},
   "source": [
    "### Division by a scalar"
   ]
  },
  {
   "cell_type": "markdown",
   "id": "8affe081-f432-4922-b9f2-4b60b2defe01",
   "metadata": {},
   "source": [
    "$$\n",
    "B = \\frac{A}{\\lambda}\n",
    "$$\n",
    "where:  \n",
    "$ \n",
    "A, B \\in \\mathbb{R}^{mxn},\\\\\n",
    "\\lambda \\in \\mathbb{R} \\neq0\n",
    "$\n",
    "<br/>\n",
    "$$\n",
    "b_{ij}= \\frac{a_{ij}}{\\lambda}\n",
    "$$\n",
    "where:  \n",
    "$\n",
    "i = 1,...,m,\\\\\n",
    "j = 1,...,n\n",
    "$"
   ]
  },
  {
   "cell_type": "code",
   "execution_count": 17,
   "id": "dc574df6-2ac4-441a-8844-ff74d0691c58",
   "metadata": {},
   "outputs": [],
   "source": [
    "def div_scalar(matrix, scalar:float):\n",
    "    '''\n",
    "    This function multiplies matrix with a scalar\n",
    "\n",
    "    INPUT:\n",
    "        matrix:np.array - matrix to be divided\n",
    "        scalar:float - a scalar should not be equal to zero\n",
    "    OUTPUT:\n",
    "        b:np.array - resulting matrix   \n",
    "    '''\n",
    "    b = matrix / scalar\n",
    "    return b"
   ]
  },
  {
   "cell_type": "code",
   "execution_count": 18,
   "id": "d78704d5-6cc9-489e-88fc-e4d2d7ce1101",
   "metadata": {},
   "outputs": [
    {
     "name": "stdout",
     "output_type": "stream",
     "text": [
      "[[1.  1.5 2.5]\n",
      " [2.5 1.  3. ]\n",
      " [2.5 3.  1.5]\n",
      " [2.5 1.  0.5]]\n"
     ]
    }
   ],
   "source": [
    "print(div_scalar(a, scalar))"
   ]
  },
  {
   "cell_type": "markdown",
   "id": "360f7b6c-124a-4d9d-9eb5-b1e1edbcea8a",
   "metadata": {},
   "source": [
    "$$\n",
    "C=AB$$ \n",
    "where:\n",
    "$A\\in \\mathbb{R}^{mxn}\\\\ \n",
    "B \\in \\mathbb{R}^{nxk}\\\\\n",
    "C\\in\\mathbb{R}^{mxk}\n",
    "$\n"
   ]
  },
  {
   "cell_type": "markdown",
   "id": "77d067bc-cdf6-4862-99c7-c63b58f17c4e",
   "metadata": {},
   "source": [
    "$$\n",
    "c_{ij}=\\sum \\limits _{l=1} ^{n} a_{il}b_{lj}\n",
    "$$\n",
    "where:  \n",
    "$i=1,...,m,\\\\\n",
    "j=1,...,k\n",
    "$"
   ]
  },
  {
   "cell_type": "code",
   "execution_count": 69,
   "id": "00b39df5-79c1-4afe-a729-392dd3e3a510",
   "metadata": {},
   "outputs": [
    {
     "name": "stdout",
     "output_type": "stream",
     "text": [
      "Matrix A 4x3\n",
      "[[4 2 3]\n",
      " [5 8 2]\n",
      " [1 0 1]\n",
      " [7 2 1]]\n",
      "------------\n",
      "Matrix B 3x2\n",
      "[[5 2]\n",
      " [0 1]\n",
      " [3 2]]\n"
     ]
    }
   ],
   "source": [
    "mat_4x3 = np.array([[4,2,3],[5,8,2],[1,0,1],[7,2,1]])\n",
    "mat_3x2 = np.array([[5,2],[0,1],[3,2]])\n",
    "print('Matrix A 4x3')\n",
    "print(mat_4x3)\n",
    "print('------------')\n",
    "print('Matrix B 3x2')\n",
    "print(mat_3x2)"
   ]
  },
  {
   "cell_type": "markdown",
   "id": "c7a1bb1a-6ae4-4feb-bee0-2a7fb337384a",
   "metadata": {},
   "source": [
    "$\n",
    "c_{11}=\\sum \\limits _{l=1} ^{3} a_{1l}b_{l1}\n",
    "$"
   ]
  },
  {
   "cell_type": "code",
   "execution_count": 36,
   "id": "ec824e04-f964-4de9-a6b6-1fb24213b768",
   "metadata": {},
   "outputs": [
    {
     "name": "stdout",
     "output_type": "stream",
     "text": [
      "29\n"
     ]
    }
   ],
   "source": [
    "c_11 = (mat_4x3[0,:] * mat_3x2[:,0]).sum()\n",
    "print(c_11)"
   ]
  },
  {
   "cell_type": "markdown",
   "id": "337ccee2-868b-44a4-9008-fa9a0d086592",
   "metadata": {},
   "source": [
    "$\n",
    "c_{12}=\\sum \\limits _{l=1} ^{3} a_{1l}b_{l2}\n",
    "$"
   ]
  },
  {
   "cell_type": "code",
   "execution_count": 44,
   "id": "ee6bc503-9e6c-485c-b058-cbaf9ff49f6e",
   "metadata": {},
   "outputs": [
    {
     "name": "stdout",
     "output_type": "stream",
     "text": [
      "16\n"
     ]
    }
   ],
   "source": [
    "c_12 = (mat_4x3[0,:] * mat_3x2[:,1]).sum()\n",
    "print(c_12)"
   ]
  },
  {
   "cell_type": "markdown",
   "id": "0ca6a64f-72a5-4f46-8609-6a2aabe9aee0",
   "metadata": {},
   "source": [
    "$\n",
    "c_{21}=\\sum \\limits _{l=1} ^{3} a_{2l}b_{l1}\n",
    "$"
   ]
  },
  {
   "cell_type": "code",
   "execution_count": 38,
   "id": "6663da6f-28b0-4837-980d-516093939af5",
   "metadata": {},
   "outputs": [
    {
     "name": "stdout",
     "output_type": "stream",
     "text": [
      "31\n"
     ]
    }
   ],
   "source": [
    "c_21 = (mat_4x3[1,:] * mat_3x2[:,0]).sum()\n",
    "print(c_21)"
   ]
  },
  {
   "cell_type": "markdown",
   "id": "ef354ca5-b46f-497d-a918-a121f1f1d2ff",
   "metadata": {},
   "source": [
    "$\n",
    "c_{22}=\\sum \\limits _{l=1} ^{3} a_{2l}b_{l2}\n",
    "$"
   ]
  },
  {
   "cell_type": "code",
   "execution_count": 39,
   "id": "759498fe-30ba-4478-bc36-ca33b7e11a1f",
   "metadata": {},
   "outputs": [
    {
     "name": "stdout",
     "output_type": "stream",
     "text": [
      "22\n"
     ]
    }
   ],
   "source": [
    "c_22 = (mat_4x3[1,:] * mat_3x2[:,1]).sum()\n",
    "print(c_22)"
   ]
  },
  {
   "cell_type": "markdown",
   "id": "1170c821-aef4-441e-8729-a7383a240db7",
   "metadata": {},
   "source": [
    "$\n",
    "c_{31}=\\sum \\limits _{l=1} ^{3} a_{3l}b_{l1}\n",
    "$"
   ]
  },
  {
   "cell_type": "code",
   "execution_count": 40,
   "id": "6fd935b6-cf53-47c8-85ea-884de6072c8d",
   "metadata": {},
   "outputs": [
    {
     "name": "stdout",
     "output_type": "stream",
     "text": [
      "8\n"
     ]
    }
   ],
   "source": [
    "c_31 = (mat_4x3[2,:] * mat_3x2[:,0]).sum()\n",
    "print(c_31)"
   ]
  },
  {
   "cell_type": "markdown",
   "id": "eec84f8a-3996-45a1-97dc-f3bf3a5db7ea",
   "metadata": {},
   "source": [
    "$\n",
    "c_{32}=\\sum \\limits _{l=1} ^{3} a_{3l}b_{l2}\n",
    "$"
   ]
  },
  {
   "cell_type": "code",
   "execution_count": 41,
   "id": "83cc9552-2633-406b-aece-4a80cf7197fa",
   "metadata": {},
   "outputs": [
    {
     "name": "stdout",
     "output_type": "stream",
     "text": [
      "4\n"
     ]
    }
   ],
   "source": [
    "c_32 = (mat_4x3[2,:] * mat_3x2[:,1]).sum()\n",
    "print(c_32)"
   ]
  },
  {
   "cell_type": "markdown",
   "id": "a99e93f0-cc8e-4f8d-ab24-ecb853236400",
   "metadata": {},
   "source": [
    "$\n",
    "c_{41}=\\sum \\limits _{l=1} ^{3} a_{4l}b_{l1}\n",
    "$"
   ]
  },
  {
   "cell_type": "code",
   "execution_count": 42,
   "id": "c781bcf7-be87-4f37-8d98-425de6589b57",
   "metadata": {},
   "outputs": [
    {
     "name": "stdout",
     "output_type": "stream",
     "text": [
      "38\n"
     ]
    }
   ],
   "source": [
    "c_41 = (mat_4x3[3,:] * mat_3x2[:,0]).sum()\n",
    "print(c_41)"
   ]
  },
  {
   "cell_type": "markdown",
   "id": "6f65b7b7-4f36-4f77-aa14-27830fb72a7e",
   "metadata": {},
   "source": [
    "$\n",
    "c_{42}=\\sum \\limits _{l=1} ^{3} a_{4l}b_{l2}\n",
    "$"
   ]
  },
  {
   "cell_type": "code",
   "execution_count": 43,
   "id": "29cb1f79-fbd1-40d1-8793-48b146759820",
   "metadata": {},
   "outputs": [
    {
     "name": "stdout",
     "output_type": "stream",
     "text": [
      "18\n"
     ]
    }
   ],
   "source": [
    "c_42 = (mat_4x3[3,:] * mat_3x2[:,1]).sum()\n",
    "print(c_42)"
   ]
  },
  {
   "cell_type": "code",
   "execution_count": 46,
   "id": "5d7863e1-627b-4da9-86fa-9853eedfe198",
   "metadata": {},
   "outputs": [
    {
     "name": "stdout",
     "output_type": "stream",
     "text": [
      "[[29 16]\n",
      " [31 22]\n",
      " [ 8  4]\n",
      " [38 18]]\n"
     ]
    }
   ],
   "source": [
    "matrix_c4x2 = np.array([[c_11, c_12], [c_21, c_22], [c_31, c_32], [c_41, c_42]])\n",
    "print(matrix_c4x2)"
   ]
  },
  {
   "cell_type": "code",
   "execution_count": 51,
   "id": "081d1120-22d5-4c99-bc5a-53b1e9e0f2bb",
   "metadata": {},
   "outputs": [],
   "source": [
    "a = mat_4x3\n",
    "b = mat_3x2"
   ]
  },
  {
   "cell_type": "code",
   "execution_count": 52,
   "id": "100ddeea-caea-4119-a061-93d86d200880",
   "metadata": {},
   "outputs": [
    {
     "data": {
      "text/plain": [
       "array([[4, 2, 3],\n",
       "       [5, 8, 2],\n",
       "       [1, 0, 1],\n",
       "       [7, 2, 1]])"
      ]
     },
     "execution_count": 52,
     "metadata": {},
     "output_type": "execute_result"
    }
   ],
   "source": [
    "a"
   ]
  },
  {
   "cell_type": "code",
   "execution_count": 70,
   "id": "5c4fadfb-a953-46c6-b223-9cc411597e18",
   "metadata": {},
   "outputs": [],
   "source": [
    "def mat_mult(mat_a, mat_b):\n",
    "    '''\n",
    "    This function multiplies two matrices\n",
    "    \n",
    "    INPUT:\n",
    "        mat_a:ndarray - matrix with mxn dimensions\n",
    "        mat_b:ndarray - matrix with nxk dimensions\n",
    "    OUTPUT:\n",
    "        mat_c:ndarray - matrix with mxk dimensions\n",
    "    '''\n",
    "    if mat_a.shape[1] == mat_b.shape[0]:\n",
    "        cols = list()\n",
    "        for i in range(len(a)):\n",
    "            rows = list()\n",
    "            a_il = a[i,:]\n",
    "            for j in range(len(b[0])):\n",
    "                b_lj = b[:,j]\n",
    "                c_ij = (a_il * b_lj).sum()\n",
    "                rows.append(c_ij)\n",
    "            cols.append(rows)\n",
    "        mat_c = np.array(cols)\n",
    "        return mat_c\n",
    "    else:\n",
    "        return print('Make sure that neighboring dimensions are the same for both matrices')"
   ]
  },
  {
   "cell_type": "code",
   "execution_count": 74,
   "id": "d745b181-686d-4ffc-ab34-1830334a6147",
   "metadata": {},
   "outputs": [
    {
     "name": "stdout",
     "output_type": "stream",
     "text": [
      "Matrix A\n",
      "[[4 2 3]\n",
      " [5 8 2]\n",
      " [1 0 1]\n",
      " [7 2 1]]\n",
      "----------\n",
      "Matrix B\n",
      "[[5 2]\n",
      " [0 1]\n",
      " [3 2]]\n",
      "----------\n",
      "Resulting Matrix C\n",
      "[[29 16]\n",
      " [31 22]\n",
      " [ 8  4]\n",
      " [38 18]]\n"
     ]
    }
   ],
   "source": [
    "mat_4x2 = mat_mult(mat_4x3, mat_3x2)\n",
    "print('Matrix A')\n",
    "print(mat_4x3)\n",
    "print('----------')\n",
    "print('Matrix B')\n",
    "print(mat_3x2)\n",
    "print('----------')\n",
    "print('Resulting Matrix C')\n",
    "print(mat_4x2)"
   ]
  },
  {
   "cell_type": "code",
   "execution_count": 77,
   "id": "a3e521ce-0fcf-4e12-8e23-9fb2a5e2bf57",
   "metadata": {},
   "outputs": [
    {
     "name": "stdout",
     "output_type": "stream",
     "text": [
      "[[29 16]\n",
      " [31 22]\n",
      " [ 8  4]\n",
      " [38 18]]\n"
     ]
    }
   ],
   "source": [
    "mat_4x2 = np.dot(mat_4x3, mat_3x2)\n",
    "print(mat_4x2)"
   ]
  },
  {
   "cell_type": "markdown",
   "id": "aae70b6a-185f-4f32-b5a1-4a8c72889cc9",
   "metadata": {},
   "source": [
    "### Transpose"
   ]
  },
  {
   "cell_type": "markdown",
   "id": "1f6d73b1-82be-42d6-892f-8bc0e9583ac8",
   "metadata": {},
   "source": [
    "$$\n",
    "B = A^T\n",
    "$$\n",
    "where  \n",
    "$A\\in \\mathbb{R}^{mxn},\\\\\n",
    "B\\in\\mathbb{R}^{nxm},\\\\\n",
    "b_{ij}=a_{ji},\\\\\n",
    "n,m \\in \\mathbb{N}$"
   ]
  },
  {
   "cell_type": "code",
   "execution_count": 81,
   "id": "a19dcd16-977d-44fb-91b3-545648fd35a4",
   "metadata": {},
   "outputs": [
    {
     "name": "stdout",
     "output_type": "stream",
     "text": [
      "Matrix A\n",
      "[[4 2 6 4 2]\n",
      " [7 2 6 4 5]\n",
      " [6 2 3 2 1]\n",
      " [1 0 2 6 8]]\n",
      "---------\n",
      "Martix B(A transposed)\n",
      "[[4 7 6 1]\n",
      " [2 2 2 0]\n",
      " [6 6 3 2]\n",
      " [4 4 2 6]\n",
      " [2 5 1 8]]\n"
     ]
    }
   ],
   "source": [
    "# Define a 4x5 matrix\n",
    "mat_4x5 = np.array([[4,2,6,4,2], [7,2,6,4,5], [6,2,3,2,1],[1,0,2,6,8]])\n",
    "print('Matrix A')\n",
    "print(mat_4x5)\n",
    "print('---------')\n",
    "print('Martix B(A transposed)')\n",
    "print(mat_4x5.T)"
   ]
  },
  {
   "cell_type": "code",
   "execution_count": null,
   "id": "0637f517-bae7-4b6f-965c-330e12f88f26",
   "metadata": {},
   "outputs": [],
   "source": []
  }
 ],
 "metadata": {
  "kernelspec": {
   "display_name": "Python 3",
   "language": "python",
   "name": "python3"
  },
  "language_info": {
   "codemirror_mode": {
    "name": "ipython",
    "version": 3
   },
   "file_extension": ".py",
   "mimetype": "text/x-python",
   "name": "python",
   "nbconvert_exporter": "python",
   "pygments_lexer": "ipython3",
   "version": "3.8.10"
  }
 },
 "nbformat": 4,
 "nbformat_minor": 5
}
